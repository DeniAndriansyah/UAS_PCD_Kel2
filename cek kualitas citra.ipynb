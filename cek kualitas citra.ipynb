{
 "cells": [
  {
   "cell_type": "code",
   "execution_count": 1,
   "metadata": {},
   "outputs": [],
   "source": [
    "import cv2 # type: ignore\n",
    "import os"
   ]
  },
  {
   "cell_type": "code",
   "execution_count": 2,
   "metadata": {},
   "outputs": [],
   "source": [
    "def is_blurry(image_path, threshold=100):\n",
    "    # Baca gambar\n",
    "    image = cv2.imread(image_path)\n",
    "    if image is None:\n",
    "        print(f\"Error: Unable to load image {image_path}\")\n",
    "        return False\n",
    "    \n",
    "    # Ubah gambar menjadi grayscale\n",
    "    gray = cv2.cvtColor(image, cv2.COLOR_BGR2GRAY)\n",
    "    \n",
    "    # Hitung Laplacian Variance\n",
    "    laplacian_var = cv2.Laplacian(gray, cv2.CV_64F).var()\n",
    "    \n",
    "    # Jika laplacian_var lebih kecil dari threshold, gambar dianggap buram\n",
    "    return laplacian_var < threshold"
   ]
  },
  {
   "cell_type": "code",
   "execution_count": 3,
   "metadata": {},
   "outputs": [],
   "source": [
    "def check_blurriness_in_folder(base_folder, threshold=100):\n",
    "    total_blurry = 0\n",
    "    total_clear = 0\n",
    "    \n",
    "    # Telusuri setiap kelas dalam folder\n",
    "    for class_folder in os.listdir(base_folder):\n",
    "        class_path = os.path.join(base_folder, class_folder)\n",
    "        if os.path.isdir(class_path):\n",
    "            print(f\"\\nChecking class: {class_folder}\")\n",
    "            \n",
    "            # Telusuri setiap gambar dalam folder kelas\n",
    "            for image_name in os.listdir(class_path):\n",
    "                image_path = os.path.join(class_path, image_name)\n",
    "                if os.path.isfile(image_path):\n",
    "                    if is_blurry(image_path, threshold):\n",
    "                        #print(f\"Image {image_name} is blurry.\")\n",
    "                        total_blurry += 1\n",
    "                    else:\n",
    "                        #print(f\"Image {image_name} is clear.\")\n",
    "                        total_clear += 1\n",
    "    \n",
    "    # Tampilkan total gambar buram dan tidak buram\n",
    "    print(f\"\\nTotal blurry images: {total_blurry}\")\n",
    "    print(f\"Total clear images: {total_clear}\")"
   ]
  },
  {
   "cell_type": "code",
   "execution_count": 7,
   "metadata": {},
   "outputs": [
    {
     "name": "stdout",
     "output_type": "stream",
     "text": [
      "\n",
      "Checking class: Blight\n",
      "\n",
      "Checking class: Common_Rust\n",
      "\n",
      "Checking class: Gray_Leaf_Spot\n",
      "\n",
      "Checking class: Healthy\n",
      "\n",
      "Total blurry images: 304\n",
      "Total clear images: 3884\n"
     ]
    }
   ],
   "source": [
    "# Path ke folder utama\n",
    "base_folder = \"D:/sem 7/PCD/PCD-DJ/JAGUNG/Dataset/\"\n",
    "# Set threshold sesuai kebutuhan\n",
    "threshold = 100  # Semakin rendah threshold, semakin sensitif terhadap keburaman\n",
    "\n",
    "check_blurriness_in_folder(base_folder, threshold)"
   ]
  }
 ],
 "metadata": {
  "kernelspec": {
   "display_name": "Python 3",
   "language": "python",
   "name": "python3"
  },
  "language_info": {
   "codemirror_mode": {
    "name": "ipython",
    "version": 3
   },
   "file_extension": ".py",
   "mimetype": "text/x-python",
   "name": "python",
   "nbconvert_exporter": "python",
   "pygments_lexer": "ipython3",
   "version": "3.11.9"
  }
 },
 "nbformat": 4,
 "nbformat_minor": 2
}
